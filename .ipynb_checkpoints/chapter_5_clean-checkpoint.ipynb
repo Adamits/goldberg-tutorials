{
 "cells": [
  {
   "cell_type": "code",
   "execution_count": 3,
   "metadata": {
    "collapsed": false
   },
   "outputs": [
    {
     "ename": "TypeError",
     "evalue": "__init__() got an unexpected keyword argument 'size'",
     "output_type": "error",
     "traceback": [
      "\u001b[0;31m---------------------------------------------------------------------------\u001b[0m",
      "\u001b[0;31mTypeError\u001b[0m                                 Traceback (most recent call last)",
      "\u001b[0;32m<ipython-input-3-59429047777b>\u001b[0m in \u001b[0;36m<module>\u001b[0;34m()\u001b[0m\n\u001b[1;32m     14\u001b[0m \u001b[0;34m\u001b[0m\u001b[0m\n\u001b[1;32m     15\u001b[0m \u001b[0;31m# Input layer, each sample will have 2 dimensions\u001b[0m\u001b[0;34m\u001b[0m\u001b[0;34m\u001b[0m\u001b[0m\n\u001b[0;32m---> 16\u001b[0;31m \u001b[0mil\u001b[0m \u001b[0;34m=\u001b[0m \u001b[0mInputLayer\u001b[0m\u001b[0;34m(\u001b[0m\u001b[0msize\u001b[0m\u001b[0;34m=\u001b[0m\u001b[0;36m2\u001b[0m\u001b[0;34m)\u001b[0m\u001b[0;34m\u001b[0m\u001b[0m\n\u001b[0m\u001b[1;32m     17\u001b[0m \u001b[0;31m# Hidden Layer\u001b[0m\u001b[0;34m\u001b[0m\u001b[0;34m\u001b[0m\u001b[0m\n\u001b[1;32m     18\u001b[0m \u001b[0mhl\u001b[0m \u001b[0;34m=\u001b[0m \u001b[0mLayer\u001b[0m\u001b[0;34m(\u001b[0m\u001b[0msize\u001b[0m\u001b[0;34m=\u001b[0m\u001b[0;36m3\u001b[0m\u001b[0;34m,\u001b[0m \u001b[0mchild_layer\u001b[0m\u001b[0;34m=\u001b[0m\u001b[0mil\u001b[0m\u001b[0;34m,\u001b[0m \u001b[0minit\u001b[0m\u001b[0;34m=\u001b[0m\u001b[0minit\u001b[0m\u001b[0;34m)\u001b[0m\u001b[0;34m\u001b[0m\u001b[0m\n",
      "\u001b[0;31mTypeError\u001b[0m: __init__() got an unexpected keyword argument 'size'"
     ]
    }
   ],
   "source": [
    "\"\"\"\n",
    "This uses classes defined in the file nn.py\n",
    "\n",
    "We are mainly using the Layer class, which defines matrix operations\n",
    "for the forward and backward pass at the instance of a single layer,\n",
    "and its relationship to a 'child' layer. It would be useful to look at\n",
    "how these matrices are instantiated, and how their operations are implemented.\n",
    "\"\"\"\n",
    "from nn import *\n",
    "import numpy as np\n",
    "\n",
    "# Xavier initialization, the 4 is from d_in + d_out\n",
    "init = np.sqrt(6) / np.sqrt(4)\n",
    "\n",
    "# Input layer, each sample will have 2 dimensions\n",
    "il = InputLayer(size=2)\n",
    "# Hidden Layer\n",
    "hl = Layer(size=3, child_layer=il, init=init)\n",
    "# Output Layer; size should be the number of potential class layers\n",
    "ol = Layer(size=2, child_layer=hl, init=init)\n",
    "# Loss Layer\n",
    "ll = LossLayer(child_layer=ol)\n",
    "\n",
    "# These are the XOR values. each tuple has (coordinate pairs, one hot vector for label)\n",
    "input_samples = [([1, 1], [1, 0]), ([-1, 1], [0, 1]), ([-1, -1], [1, 0]), ([1, -1], [0, 1])]\n",
    "\n",
    "# Run 20 epochs\n",
    "for e in range(20):\n",
    "  \"\"\"\n",
    "  SGD, but in practice we will actually just sample everything\n",
    "  \"\"\"\n",
    "  # For tracking losses in a single epoch\n",
    "  losses = []\n",
    "  for inp, target in input_samples:\n",
    "    # Forward propogate each layer. Note the different forward implementation per layer type\n",
    "    il.forward(inp)\n",
    "    hl.forward()\n",
    "    ol.forward()\n",
    "    ll.forward(target)\n",
    "    # Track per isntance loss\n",
    "    losses.append(ll.loss)\n",
    "\n",
    "    # Now backward propogate the error starting at the loss node. Note the different forward implementation per layer type\n",
    "    ll.backward(target)\n",
    "    ol.backward()\n",
    "    hl.backward()\n",
    "\n",
    "  print(\"AVG LOSS: %.2f\" % (sum(losses) / len(losses)))"
   ]
  },
  {
   "cell_type": "code",
   "execution_count": null,
   "metadata": {
    "collapsed": true
   },
   "outputs": [],
   "source": []
  }
 ],
 "metadata": {
  "kernelspec": {
   "display_name": "goldberg-tutorials",
   "language": "python",
   "name": "goldberg-tutorials"
  },
  "language_info": {
   "codemirror_mode": {
    "name": "ipython",
    "version": 2
   },
   "file_extension": ".py",
   "mimetype": "text/x-python",
   "name": "python",
   "nbconvert_exporter": "python",
   "pygments_lexer": "ipython2",
   "version": "2.7.13"
  }
 },
 "nbformat": 4,
 "nbformat_minor": 1
}
